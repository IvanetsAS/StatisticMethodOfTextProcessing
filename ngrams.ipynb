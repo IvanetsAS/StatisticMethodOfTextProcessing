{
  "cells": [
    {
      "cell_type": "markdown",
      "source": "# NGrams\n",
      "metadata": {
        "pycharm": {
          "metadata": false
        }
      }
    },
    {
      "cell_type": "code",
      "execution_count": 2,
      "metadata": {
        "pycharm": {
          "is_executing": false
        }
      },
      "outputs": [],
      "source": "import os\n\npath \u003d \"/home/ivanetsas/Документы/Linguistic/ReadabilityCorpus/Children/School/\"\nfile_list \u003d os.listdir(path)\n\nunprocessed_corpus \u003d \"\"\n\nfor file in file_list:\n    f \u003d open(path + \"/\" + file, \"r\")\n    unprocessed_corpus +\u003d f.read()\n"
    },
    {
      "cell_type": "code",
      "execution_count": 3,
      "metadata": {
        "collapsed": true,
        "pycharm": {
          "is_executing": false
        }
      },
      "outputs": [],
      "source": [
        "from nltk.tokenize import sent_tokenize\n",
        "\n",
        "sentence_tokenized_corpus \u003d sent_tokenize(unprocessed_corpus)\n"
      ]
    },
    {
      "cell_type": "code",
      "execution_count": 4,
      "metadata": {
        "pycharm": {
          "is_executing": false
        }
      },
      "outputs": [
        {
          "name": "stdout",
          "text": [
            "— Я вовсе не самый обыкновенный малыш, — говорит Малыш.\n"
          ],
          "output_type": "stream"
        }
      ],
      "source": "print(sentence_tokenized_corpus[2])\n"
    },
    {
      "cell_type": "code",
      "execution_count": 25,
      "metadata": {
        "pycharm": {
          "is_executing": false
        }
      },
      "outputs": [],
      "source": [
        "def preprocess_word(word):\n",
        "    return word.lower()\n",
        "\n",
        "from nltk.tokenize import word_tokenize\n",
        "\n",
        "processed_corpus \u003d []\n",
        "\n",
        "for sent in sentence_tokenized_corpus:\n",
        "    try:\n",
        "        sentence \u003d [preprocess_word(word) for word in word_tokenize(sent)]\n",
        "        processed_corpus.append(sentence)\n",
        "    except TypeError:\n",
        "        print(sent)\n",
        "        break\n"
      ]
    },
    {
      "cell_type": "code",
      "execution_count": 27,
      "metadata": {
        "pycharm": {
          "is_executing": false
        }
      },
      "outputs": [
        {
          "name": "stdout",
          "text": [
            "\u003cVocabulary with cutoff\u003d1 unk_label\u003d\u0027\u003cUNK\u003e\u0027 and 88686 items\u003e\n"
          ],
          "output_type": "stream"
        }
      ],
      "source": "from nltk.lm.preprocessing import padded_everygram_pipeline\n\ntrain, vocab \u003d padded_everygram_pipeline(2, processed_corpus)\n\nfrom nltk.lm import Laplace\n\nlm \u003d Laplace(2)\n\nlm.fit(train, vocab)\nprint(lm.vocab)\n"
    },
    {
      "cell_type": "code",
      "execution_count": null,
      "outputs": [],
      "source": "lm.generate(100, random_seed\u003d3)",
      "metadata": {
        "pycharm": {
          "metadata": false,
          "name": "#%%\n",
          "is_executing": true
        }
      }
    }
  ],
  "metadata": {
    "kernelspec": {
      "name": "python3",
      "language": "python",
      "display_name": "Python 3"
    },
    "language_info": {
      "codemirror_mode": {
        "name": "ipython",
        "version": 2
      },
      "file_extension": ".py",
      "mimetype": "text/x-python",
      "name": "python",
      "nbconvert_exporter": "python",
      "pygments_lexer": "ipython2",
      "version": "2.7.6"
    },
    "stem_cell": {
      "cell_type": "raw",
      "source": "",
      "metadata": {
        "pycharm": {
          "metadata": false
        }
      }
    }
  },
  "nbformat": 4,
  "nbformat_minor": 0
}